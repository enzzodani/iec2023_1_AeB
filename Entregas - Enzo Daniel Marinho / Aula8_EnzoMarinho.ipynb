{
  "nbformat": 4,
  "nbformat_minor": 0,
  "metadata": {
    "colab": {
      "provenance": [],
      "include_colab_link": true
    },
    "kernelspec": {
      "name": "python3",
      "display_name": "Python 3"
    },
    "language_info": {
      "name": "python"
    }
  },
  "cells": [
    {
      "cell_type": "markdown",
      "metadata": {
        "id": "view-in-github",
        "colab_type": "text"
      },
      "source": [
        "<a href=\"https://colab.research.google.com/github/enzzodani/iec2023_1_AeB/blob/main/Entregas%20-%20Enzo%20Daniel%20Marinho%20/%20Aula8_EnzoMarinho.ipynb\" target=\"_parent\"><img src=\"https://colab.research.google.com/assets/colab-badge.svg\" alt=\"Open In Colab\"/></a>"
      ]
    },
    {
      "cell_type": "markdown",
      "source": [
        "Operadores Aritméticos"
      ],
      "metadata": {
        "id": "ULaWfo6l1CrM"
      }
    },
    {
      "cell_type": "code",
      "execution_count": null,
      "metadata": {
        "colab": {
          "base_uri": "https://localhost:8080/"
        },
        "id": "4DbAGWye0vLF",
        "outputId": "61813f9e-f954-40be-8210-015556d515d0"
      },
      "outputs": [
        {
          "output_type": "execute_result",
          "data": {
            "text/plain": [
              "2"
            ]
          },
          "metadata": {},
          "execution_count": 1
        }
      ],
      "source": [
        "1 + 1"
      ]
    },
    {
      "cell_type": "code",
      "source": [
        "1 - 1"
      ],
      "metadata": {
        "colab": {
          "base_uri": "https://localhost:8080/"
        },
        "id": "9OFW-3aE1Saj",
        "outputId": "139673ac-45f3-4cf1-e003-dc53ebc233c9"
      },
      "execution_count": null,
      "outputs": [
        {
          "output_type": "execute_result",
          "data": {
            "text/plain": [
              "0"
            ]
          },
          "metadata": {},
          "execution_count": 2
        }
      ]
    },
    {
      "cell_type": "code",
      "source": [
        "1 * 2"
      ],
      "metadata": {
        "colab": {
          "base_uri": "https://localhost:8080/"
        },
        "id": "sLRJvrTL1VN7",
        "outputId": "63659389-2a79-4f0b-bc93-a5e7df7c5efd"
      },
      "execution_count": null,
      "outputs": [
        {
          "output_type": "execute_result",
          "data": {
            "text/plain": [
              "2"
            ]
          },
          "metadata": {},
          "execution_count": 3
        }
      ]
    },
    {
      "cell_type": "markdown",
      "source": [
        "Tipos de Dados"
      ],
      "metadata": {
        "id": "mH9WZcmj0-5S"
      }
    },
    {
      "cell_type": "code",
      "source": [
        "#Qual o tipo do (?) -> Inteiro\n",
        "type(5)"
      ],
      "metadata": {
        "colab": {
          "base_uri": "https://localhost:8080/"
        },
        "id": "I9EBmqpF1hgD",
        "outputId": "e135bb5b-0745-4ccf-d7f1-ee6bc7640c37"
      },
      "execution_count": null,
      "outputs": [
        {
          "output_type": "execute_result",
          "data": {
            "text/plain": [
              "int"
            ]
          },
          "metadata": {},
          "execution_count": 5
        }
      ]
    },
    {
      "cell_type": "code",
      "source": [
        "#Qual o tipo do (?)"
      ],
      "metadata": {
        "id": "2aqcA5F71yn4"
      },
      "execution_count": null,
      "outputs": []
    },
    {
      "cell_type": "markdown",
      "source": [
        "Condicionais if"
      ],
      "metadata": {
        "id": "3itNhWD_13vw"
      }
    },
    {
      "cell_type": "code",
      "source": [
        "#Condicional if (Se)\n",
        "if 5 > 2:\n",
        "        print(\"A sentença é verdadeira!\")"
      ],
      "metadata": {
        "colab": {
          "base_uri": "https://localhost:8080/"
        },
        "id": "v0Ap6jnN158j",
        "outputId": "0336eba1-1779-4fc1-eabf-521b64ae60e2"
      },
      "execution_count": null,
      "outputs": [
        {
          "output_type": "stream",
          "name": "stdout",
          "text": [
            "A sentença é verdadeira!\n"
          ]
        }
      ]
    },
    {
      "cell_type": "code",
      "source": [
        "#Condicional if... else com variável\n",
        "dia = \"Quarta-feira\"\n",
        "if dia == \"Sexta-feira\":\n",
        "      print(\"Hoje fará Sol!\")\n",
        "else:\n",
        "      print(\"Hoje vai chover!\")\n",
        "\n",
        "type(dia)"
      ],
      "metadata": {
        "colab": {
          "base_uri": "https://localhost:8080/"
        },
        "id": "FIYgOoED2Zcq",
        "outputId": "ea8fe24a-be90-4a12-f440-f3fe032debb0"
      },
      "execution_count": null,
      "outputs": [
        {
          "output_type": "stream",
          "name": "stdout",
          "text": [
            "Hoje vai chover!\n"
          ]
        },
        {
          "output_type": "execute_result",
          "data": {
            "text/plain": [
              "str"
            ]
          },
          "metadata": {},
          "execution_count": 10
        }
      ]
    },
    {
      "cell_type": "markdown",
      "source": [
        "Manipulando Arquivos (.txt)"
      ],
      "metadata": {
        "id": "7KoEQqA-3JBt"
      }
    },
    {
      "cell_type": "code",
      "source": [
        "from google.colab import drive\n",
        "drive.mount('/content/drive')"
      ],
      "metadata": {
        "colab": {
          "base_uri": "https://localhost:8080/"
        },
        "id": "sZs8_8G93MGB",
        "outputId": "817c8aa7-4f50-4b35-e7dd-e7436a0e0c07"
      },
      "execution_count": 1,
      "outputs": [
        {
          "output_type": "stream",
          "name": "stdout",
          "text": [
            "Mounted at /content/drive\n"
          ]
        }
      ]
    },
    {
      "cell_type": "markdown",
      "source": [
        "Lendo arquivos (.txt)"
      ],
      "metadata": {
        "id": "Q2IgUTRg5d93"
      }
    },
    {
      "cell_type": "code",
      "source": [
        "#abrindo arquivos para leitura\n",
        "a1 = open(\"/content/drive/MyDrive/Colab Notebooks/aula8.txt\", \"r\")"
      ],
      "metadata": {
        "id": "8fbhKq2g5geU"
      },
      "execution_count": null,
      "outputs": []
    },
    {
      "cell_type": "code",
      "source": [
        "print(a1.read())"
      ],
      "metadata": {
        "colab": {
          "base_uri": "https://localhost:8080/"
        },
        "id": "LzGAmci06Ymz",
        "outputId": "e9883fe7-debb-4471-e8d8-f02e6533f0de"
      },
      "execution_count": null,
      "outputs": [
        {
          "output_type": "stream",
          "name": "stdout",
          "text": [
            "aula 8 de IEC\n"
          ]
        }
      ]
    },
    {
      "cell_type": "markdown",
      "source": [
        "Gravando Arquivos (.txt)"
      ],
      "metadata": {
        "id": "_rnTp3RC7Hp_"
      }
    },
    {
      "cell_type": "code",
      "source": [
        "#Abrindo arquivo para gravação\n",
        "a2 = open(\"/content/drive/MyDrive/Colab Notebooks/aula8.txt\", \"w\")"
      ],
      "metadata": {
        "id": "Gy8RS1Lo7Wfx"
      },
      "execution_count": null,
      "outputs": []
    },
    {
      "cell_type": "code",
      "source": [
        "#Gravando no arquivo\n",
        "a2.write(\"Aprendendo Python!\")"
      ],
      "metadata": {
        "colab": {
          "base_uri": "https://localhost:8080/"
        },
        "id": "8cAyYAp270N1",
        "outputId": "795d95eb-b87e-4c76-cfc5-06bd19467bec"
      },
      "execution_count": null,
      "outputs": [
        {
          "output_type": "execute_result",
          "data": {
            "text/plain": [
              "18"
            ]
          },
          "metadata": {},
          "execution_count": 23
        }
      ]
    },
    {
      "cell_type": "code",
      "source": [
        "#Abrindo o arquivo para Leitura\n",
        "a2 = open(\"/content/drive/MyDrive/Colab Notebooks/aula8.txt\", \"r\")"
      ],
      "metadata": {
        "id": "tw2W2X7t8HTu"
      },
      "execution_count": null,
      "outputs": []
    },
    {
      "cell_type": "code",
      "source": [
        "#Imprimindo o arquivo\n",
        "print(a2.read())"
      ],
      "metadata": {
        "colab": {
          "base_uri": "https://localhost:8080/"
        },
        "id": "HE5PQ3GW8T7P",
        "outputId": "b5533280-da78-4e51-a17c-f0e5d1e1510d"
      },
      "execution_count": null,
      "outputs": [
        {
          "output_type": "stream",
          "name": "stdout",
          "text": [
            "Aprendendo Python!\n"
          ]
        }
      ]
    }
  ]
}